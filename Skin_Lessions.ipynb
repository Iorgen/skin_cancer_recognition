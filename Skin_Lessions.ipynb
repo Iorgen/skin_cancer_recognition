{
 "cells": [
  {
   "cell_type": "markdown",
   "metadata": {},
   "source": [
    "# Предобработка данных \n",
    "1) Разбиение на пакеты в зависимости от мета данных и сохранение данных пакетов.\n"
   ]
  },
  {
   "cell_type": "markdown",
   "metadata": {},
   "source": [
    "From Authors\n",
    "\n",
    "Training of neural networks for automated diagnosis of pigmented skin lesions is hampered by the small size and lack of diversity of available dataset of dermatoscopic images. We tackle this problem by releasing the HAM10000 (\"Human Against Machine with 10000 training images\") dataset. We collected dermatoscopic images from different populations, acquired and stored by different modalities. The final dataset consists of 10015 dermatoscopic images which can serve as a training set for academic machine learning purposes. Cases include a representative collection of all important diagnostic categories in the realm of pigmented lesions: Actinic keratoses and intraepithelial carcinoma / Bowen's disease (akiec), basal cell carcinoma (bcc), benign keratosis-like lesions (solar lentigines / seborrheic keratoses and lichen-planus like keratoses, bkl), dermatofibroma (df), melanoma (mel), melanocytic nevi (nv) and vascular lesions (angiomas, angiokeratomas, pyogenic granulomas and hemorrhage, vasc).\n",
    "\n",
    "More than 50% of lesions are confirmed through histopathology (histo), the ground truth for the rest of the cases is either follow-up examination (follow_up), expert consensus (consensus), or confirmation by in-vivo confocal microscopy (confocal). The dataset includes lesions with multiple images, which can be tracked by the lesion_id-column within the HAM10000_metadata file."
   ]
  },
  {
   "cell_type": "markdown",
   "metadata": {},
   "source": [
    "# Skin Lessions Types\n",
    "7 types of skin lessions\n",
    "\n",
    "1) Actinic keratoses and intraepithelial carcinoma  / Bowen's disease - akiec\n",
    "\n",
    "2) basal cell carcinoma - bcc\n",
    "\n",
    "3) benign keratosis-like lesions (solar lentigines / seborrheic keratoses and lichen-planus like keratoses) - bkl\n",
    "\n",
    "4) dermatofibroma - df\n",
    "\n",
    "5) melanoma - mel\n",
    "\n",
    "6) melanocytic nevi - nv \n",
    "\n",
    "7) vascular lesions (angiomas, angiokeratomas, pyogenic granulomas and hemorrhage) - vasc\n"
   ]
  },
  {
   "cell_type": "code",
   "execution_count": 1,
   "metadata": {},
   "outputs": [
    {
     "name": "stderr",
     "output_type": "stream",
     "text": [
      "/anaconda3/lib/python3.6/site-packages/h5py/__init__.py:36: FutureWarning: Conversion of the second argument of issubdtype from `float` to `np.floating` is deprecated. In future, it will be treated as `np.float64 == np.dtype(float).type`.\n",
      "  from ._conv import register_converters as _register_converters\n",
      "Using TensorFlow backend.\n"
     ]
    }
   ],
   "source": [
    "from keras import layers\n",
    "from keras import models\n",
    "from keras.preprocessing.image import img_to_array, load_img\n",
    "import pandas as pd"
   ]
  },
  {
   "cell_type": "code",
   "execution_count": 18,
   "metadata": {},
   "outputs": [
    {
     "name": "stdout",
     "output_type": "stream",
     "text": [
      "<class 'pandas.core.frame.DataFrame'>\n",
      "Int64Index: 7418 entries, 0 to 10010\n",
      "Data columns (total 7 columns):\n",
      "lesion_id       7418 non-null object\n",
      "image_id        7418 non-null object\n",
      "dx              7418 non-null object\n",
      "dx_type         7418 non-null object\n",
      "age             7418 non-null float64\n",
      "sex             7418 non-null object\n",
      "localization    7418 non-null object\n",
      "dtypes: float64(1), object(6)\n",
      "memory usage: 463.6+ KB\n"
     ]
    }
   ],
   "source": [
    "data = pd.read_csv('HAM10000_metadata.csv',delimiter = ',')\n",
    "img_data = pd.read_csv('hmnist_8_8_RGB.csv',delimiter = ',')\n",
    "data = data.dropna(axis = 0, subset = ['age'])\n",
    "data = data.drop_duplicates(subset = ['lesion_id'])\n",
    "data.info()"
   ]
  },
  {
   "cell_type": "code",
   "execution_count": 3,
   "metadata": {},
   "outputs": [],
   "source": [
    "data['age'] = data['age'].round().astype(int)\n",
    "female = data[data['sex'] == 'female']\n",
    "male = data[data['sex'] == 'male']"
   ]
  },
  {
   "cell_type": "code",
   "execution_count": 4,
   "metadata": {},
   "outputs": [
    {
     "data": {
      "text/plain": [
       "lesion_id       7\n",
       "image_id        7\n",
       "dx              7\n",
       "dx_type         7\n",
       "age             7\n",
       "sex             7\n",
       "localization    7\n",
       "dtype: int64"
      ]
     },
     "execution_count": 4,
     "metadata": {},
     "output_type": "execute_result"
    }
   ],
   "source": [
    "data[data['localization'] == 'acral'].count()"
   ]
  },
  {
   "cell_type": "code",
   "execution_count": 5,
   "metadata": {},
   "outputs": [
    {
     "data": {
      "text/plain": [
       "array(['back', 'trunk', 'chest', 'face', 'unknown', 'abdomen', 'scalp',\n",
       "       'lower extremity', 'genital', 'neck', 'hand', 'upper extremity',\n",
       "       'foot', 'ear', 'acral'], dtype=object)"
      ]
     },
     "execution_count": 5,
     "metadata": {},
     "output_type": "execute_result"
    }
   ],
   "source": [
    "female['localization'].unique()"
   ]
  },
  {
   "cell_type": "code",
   "execution_count": 80,
   "metadata": {},
   "outputs": [
    {
     "data": {
      "text/plain": [
       "<matplotlib.axes._subplots.AxesSubplot at 0x1a234d0b70>"
      ]
     },
     "execution_count": 80,
     "metadata": {},
     "output_type": "execute_result"
    },
    {
     "data": {
      "image/png": "[encoded data removed]",
      "text/plain": [
       "<matplotlib.figure.Figure at 0x1a234f0e48>"
      ]
     },
     "metadata": {},
     "output_type": "display_data"
    }
   ],
   "source": [
    "male['localization'].hist(xrot=100)"
   ]
  },
  {
   "cell_type": "code",
   "execution_count": 13,
   "metadata": {},
   "outputs": [
    {
     "data": {
      "text/plain": [
       "0        HAM_0000118\n",
       "1        HAM_0000118\n",
       "2        HAM_0002730\n",
       "3        HAM_0002730\n",
       "4        HAM_0001466\n",
       "5        HAM_0001466\n",
       "6        HAM_0002761\n",
       "7        HAM_0002761\n",
       "8        HAM_0005132\n",
       "9        HAM_0005132\n",
       "10       HAM_0001396\n",
       "11       HAM_0004234\n",
       "12       HAM_0004234\n",
       "13       HAM_0001949\n",
       "14       HAM_0001949\n",
       "15       HAM_0007207\n",
       "16       HAM_0001601\n",
       "17       HAM_0001601\n",
       "18       HAM_0007571\n",
       "19       HAM_0007571\n",
       "20       HAM_0006071\n",
       "21       HAM_0003301\n",
       "22       HAM_0003301\n",
       "23       HAM_0004884\n",
       "24       HAM_0004884\n",
       "25       HAM_0002521\n",
       "26       HAM_0002521\n",
       "27       HAM_0006574\n",
       "28       HAM_0006574\n",
       "29       HAM_0001480\n",
       "            ...     \n",
       "9985     HAM_0006024\n",
       "9986     HAM_0006220\n",
       "9987     HAM_0004809\n",
       "9988     HAM_0001036\n",
       "9989     HAM_0004384\n",
       "9990     HAM_0004462\n",
       "9991     HAM_0001152\n",
       "9992     HAM_0004282\n",
       "9993     HAM_0000545\n",
       "9994     HAM_0000193\n",
       "9995     HAM_0000193\n",
       "9996     HAM_0006180\n",
       "9997     HAM_0006180\n",
       "9998     HAM_0004282\n",
       "9999     HAM_0000356\n",
       "10000    HAM_0004282\n",
       "10001    HAM_0000020\n",
       "10002    HAM_0006442\n",
       "10003    HAM_0004592\n",
       "10004    HAM_0005579\n",
       "10005    HAM_0005579\n",
       "10006    HAM_0004034\n",
       "10007    HAM_0001565\n",
       "10008    HAM_0001576\n",
       "10009    HAM_0005705\n",
       "10010    HAM_0002867\n",
       "10011    HAM_0002867\n",
       "10012    HAM_0002867\n",
       "10013    HAM_0000239\n",
       "10014    HAM_0003521\n",
       "Name: lesion_id, Length: 9958, dtype: object"
      ]
     },
     "execution_count": 13,
     "metadata": {},
     "output_type": "execute_result"
    }
   ],
   "source": [
    "data['lesion_id']"
   ]
  },
  {
   "cell_type": "code",
   "execution_count": 14,
   "metadata": {},
   "outputs": [
    {
     "data": {
      "text/html": [
       "<div>\n",
       "<style scoped>\n",
       "    .dataframe tbody tr th:only-of-type {\n",
       "        vertical-align: middle;\n",
       "    }\n",
       "\n",
       "    .dataframe tbody tr th {\n",
       "        vertical-align: top;\n",
       "    }\n",
       "\n",
       "    .dataframe thead th {\n",
       "        text-align: right;\n",
       "    }\n",
       "</style>\n",
       "<table border=\"1\" class=\"dataframe\">\n",
       "  <thead>\n",
       "    <tr style=\"text-align: right;\">\n",
       "      <th></th>\n",
       "      <th>lesion_id</th>\n",
       "      <th>image_id</th>\n",
       "      <th>dx</th>\n",
       "      <th>dx_type</th>\n",
       "      <th>age</th>\n",
       "      <th>sex</th>\n",
       "      <th>localization</th>\n",
       "    </tr>\n",
       "  </thead>\n",
       "  <tbody>\n",
       "    <tr>\n",
       "      <th>0</th>\n",
       "      <td>HAM_0000118</td>\n",
       "      <td>ISIC_0027419</td>\n",
       "      <td>bkl</td>\n",
       "      <td>histo</td>\n",
       "      <td>80.0</td>\n",
       "      <td>male</td>\n",
       "      <td>scalp</td>\n",
       "    </tr>\n",
       "    <tr>\n",
       "      <th>1</th>\n",
       "      <td>HAM_0000118</td>\n",
       "      <td>ISIC_0025030</td>\n",
       "      <td>bkl</td>\n",
       "      <td>histo</td>\n",
       "      <td>80.0</td>\n",
       "      <td>male</td>\n",
       "      <td>scalp</td>\n",
       "    </tr>\n",
       "    <tr>\n",
       "      <th>2</th>\n",
       "      <td>HAM_0002730</td>\n",
       "      <td>ISIC_0026769</td>\n",
       "      <td>bkl</td>\n",
       "      <td>histo</td>\n",
       "      <td>80.0</td>\n",
       "      <td>male</td>\n",
       "      <td>scalp</td>\n",
       "    </tr>\n",
       "    <tr>\n",
       "      <th>3</th>\n",
       "      <td>HAM_0002730</td>\n",
       "      <td>ISIC_0025661</td>\n",
       "      <td>bkl</td>\n",
       "      <td>histo</td>\n",
       "      <td>80.0</td>\n",
       "      <td>male</td>\n",
       "      <td>scalp</td>\n",
       "    </tr>\n",
       "    <tr>\n",
       "      <th>4</th>\n",
       "      <td>HAM_0001466</td>\n",
       "      <td>ISIC_0031633</td>\n",
       "      <td>bkl</td>\n",
       "      <td>histo</td>\n",
       "      <td>75.0</td>\n",
       "      <td>male</td>\n",
       "      <td>ear</td>\n",
       "    </tr>\n",
       "  </tbody>\n",
       "</table>\n",
       "</div>"
      ],
      "text/plain": [
       "     lesion_id      image_id   dx dx_type   age   sex localization\n",
       "0  HAM_0000118  ISIC_0027419  bkl   histo  80.0  male        scalp\n",
       "1  HAM_0000118  ISIC_0025030  bkl   histo  80.0  male        scalp\n",
       "2  HAM_0002730  ISIC_0026769  bkl   histo  80.0  male        scalp\n",
       "3  HAM_0002730  ISIC_0025661  bkl   histo  80.0  male        scalp\n",
       "4  HAM_0001466  ISIC_0031633  bkl   histo  75.0  male          ear"
      ]
     },
     "execution_count": 14,
     "metadata": {},
     "output_type": "execute_result"
    }
   ],
   "source": [
    "data.head()"
   ]
  },
  {
   "cell_type": "code",
   "execution_count": 17,
   "metadata": {},
   "outputs": [
    {
     "data": {
      "text/html": [
       "<div>\n",
       "<style scoped>\n",
       "    .dataframe tbody tr th:only-of-type {\n",
       "        vertical-align: middle;\n",
       "    }\n",
       "\n",
       "    .dataframe tbody tr th {\n",
       "        vertical-align: top;\n",
       "    }\n",
       "\n",
       "    .dataframe thead th {\n",
       "        text-align: right;\n",
       "    }\n",
       "</style>\n",
       "<table border=\"1\" class=\"dataframe\">\n",
       "  <thead>\n",
       "    <tr style=\"text-align: right;\">\n",
       "      <th></th>\n",
       "      <th>pixel0000</th>\n",
       "      <th>pixel0001</th>\n",
       "      <th>pixel0002</th>\n",
       "      <th>pixel0003</th>\n",
       "      <th>pixel0004</th>\n",
       "      <th>pixel0005</th>\n",
       "      <th>pixel0006</th>\n",
       "      <th>pixel0007</th>\n",
       "      <th>pixel0008</th>\n",
       "      <th>pixel0009</th>\n",
       "      <th>...</th>\n",
       "      <th>pixel0183</th>\n",
       "      <th>pixel0184</th>\n",
       "      <th>pixel0185</th>\n",
       "      <th>pixel0186</th>\n",
       "      <th>pixel0187</th>\n",
       "      <th>pixel0188</th>\n",
       "      <th>pixel0189</th>\n",
       "      <th>pixel0190</th>\n",
       "      <th>pixel0191</th>\n",
       "      <th>label</th>\n",
       "    </tr>\n",
       "  </thead>\n",
       "  <tbody>\n",
       "    <tr>\n",
       "      <th>117</th>\n",
       "      <td>211</td>\n",
       "      <td>196</td>\n",
       "      <td>205</td>\n",
       "      <td>213</td>\n",
       "      <td>199</td>\n",
       "      <td>207</td>\n",
       "      <td>215</td>\n",
       "      <td>203</td>\n",
       "      <td>212</td>\n",
       "      <td>217</td>\n",
       "      <td>...</td>\n",
       "      <td>211</td>\n",
       "      <td>202</td>\n",
       "      <td>207</td>\n",
       "      <td>210</td>\n",
       "      <td>197</td>\n",
       "      <td>204</td>\n",
       "      <td>207</td>\n",
       "      <td>190</td>\n",
       "      <td>199</td>\n",
       "      <td>2</td>\n",
       "    </tr>\n",
       "    <tr>\n",
       "      <th>118</th>\n",
       "      <td>201</td>\n",
       "      <td>187</td>\n",
       "      <td>196</td>\n",
       "      <td>210</td>\n",
       "      <td>196</td>\n",
       "      <td>204</td>\n",
       "      <td>219</td>\n",
       "      <td>202</td>\n",
       "      <td>211</td>\n",
       "      <td>226</td>\n",
       "      <td>...</td>\n",
       "      <td>208</td>\n",
       "      <td>189</td>\n",
       "      <td>200</td>\n",
       "      <td>200</td>\n",
       "      <td>177</td>\n",
       "      <td>189</td>\n",
       "      <td>192</td>\n",
       "      <td>172</td>\n",
       "      <td>179</td>\n",
       "      <td>2</td>\n",
       "    </tr>\n",
       "    <tr>\n",
       "      <th>119</th>\n",
       "      <td>156</td>\n",
       "      <td>128</td>\n",
       "      <td>145</td>\n",
       "      <td>157</td>\n",
       "      <td>125</td>\n",
       "      <td>147</td>\n",
       "      <td>160</td>\n",
       "      <td>132</td>\n",
       "      <td>151</td>\n",
       "      <td>159</td>\n",
       "      <td>...</td>\n",
       "      <td>154</td>\n",
       "      <td>125</td>\n",
       "      <td>140</td>\n",
       "      <td>152</td>\n",
       "      <td>125</td>\n",
       "      <td>140</td>\n",
       "      <td>147</td>\n",
       "      <td>113</td>\n",
       "      <td>120</td>\n",
       "      <td>2</td>\n",
       "    </tr>\n",
       "  </tbody>\n",
       "</table>\n",
       "<p>3 rows × 193 columns</p>\n",
       "</div>"
      ],
      "text/plain": [
       "     pixel0000  pixel0001  pixel0002  pixel0003  pixel0004  pixel0005  \\\n",
       "117        211        196        205        213        199        207   \n",
       "118        201        187        196        210        196        204   \n",
       "119        156        128        145        157        125        147   \n",
       "\n",
       "     pixel0006  pixel0007  pixel0008  pixel0009  ...    pixel0183  pixel0184  \\\n",
       "117        215        203        212        217  ...          211        202   \n",
       "118        219        202        211        226  ...          208        189   \n",
       "119        160        132        151        159  ...          154        125   \n",
       "\n",
       "     pixel0185  pixel0186  pixel0187  pixel0188  pixel0189  pixel0190  \\\n",
       "117        207        210        197        204        207        190   \n",
       "118        200        200        177        189        192        172   \n",
       "119        140        152        125        140        147        113   \n",
       "\n",
       "     pixel0191  label  \n",
       "117        199      2  \n",
       "118        179      2  \n",
       "119        120      2  \n",
       "\n",
       "[3 rows x 193 columns]"
      ]
     },
     "execution_count": 17,
     "metadata": {},
     "output_type": "execute_result"
    }
   ],
   "source": [
    "img_data[117:120]"
   ]
  },
  {
   "cell_type": "code",
   "execution_count": null,
   "metadata": {},
   "outputs": [],
   "source": []
  }
 ],
 "metadata": {
  "kernelspec": {
   "display_name": "Python 3",
   "language": "python",
   "name": "python3"
  },
  "language_info": {
   "codemirror_mode": {
    "name": "ipython",
    "version": 3
   },
   "file_extension": ".py",
   "mimetype": "text/x-python",
   "name": "python",
   "nbconvert_exporter": "python",
   "pygments_lexer": "ipython3",
   "version": "3.6.4"
  }
 },
 "nbformat": 4,
 "nbformat_minor": 2
}
