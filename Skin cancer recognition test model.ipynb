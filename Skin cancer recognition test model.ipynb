{
 "cells": [
  {
   "cell_type": "code",
   "execution_count": 1,
   "metadata": {},
   "outputs": [
    {
     "name": "stderr",
     "output_type": "stream",
     "text": [
      "Using TensorFlow backend.\n"
     ]
    }
   ],
   "source": [
    "import numpy as np\n",
    "import pandas as pd\n",
    "import os \n",
    "import torch.utils.data as data\n",
    "import keras\n",
    "import random \n",
    "from keras import models\n",
    "from keras import layers\n",
    "from keras.layers import Dense, Dropout, Flatten\n",
    "from keras.layers import Conv2D, MaxPooling2D, Conv1D\n",
    "from keras.preprocessing import image\n",
    "from numpy import array\n",
    "from keras import metrics\n",
    "from PIL import Image\n",
    "from keras.preprocessing.image import img_to_array\n",
    "from keras.utils import to_categorical\n",
    "from tensorflow.python.keras.preprocessing.image import ImageDataGenerator\n",
    "import tensorflow as tf\n",
    "import cv2\n",
    "\n",
    "from sklearn.preprocessing import LabelBinarizer\n",
    "from sklearn.model_selection import train_test_split\n",
    "\n",
    "%matplotlib inline\n",
    "import matplotlib.pyplot as plt\n",
    "import numpy as np\n",
    "import pandas as pd\n",
    "import os\n",
    "from glob import glob\n",
    "import seaborn as sns\n",
    "base_skin_dir = os.path.join('', 'dataset')"
   ]
  },
  {
   "cell_type": "code",
   "execution_count": null,
   "metadata": {},
   "outputs": [],
   "source": []
  },
  {
   "cell_type": "code",
   "execution_count": null,
   "metadata": {},
   "outputs": [],
   "source": []
  },
  {
   "cell_type": "code",
   "execution_count": 2,
   "metadata": {},
   "outputs": [],
   "source": [
    "lesion_type_dict = {\n",
    "    'nv': 'Melanocytic nevi',\n",
    "    'mel': 'dermatofibroma',\n",
    "    'bkl': 'Benign keratosis-like lesions ',\n",
    "    'bcc': 'Basal cell carcinoma',\n",
    "    'akiec': 'Actinic keratoses',\n",
    "    'vasc': 'Vascular lesions',\n",
    "    'df': 'Dermatofibroma'\n",
    "}"
   ]
  },
  {
   "cell_type": "code",
   "execution_count": 3,
   "metadata": {},
   "outputs": [],
   "source": [
    "imageid_path_dict = {os.path.splitext(os.path.basename(x))[0]: x\n",
    "                     for x in glob(os.path.join(base_skin_dir, '*', '*.jpg'))}"
   ]
  },
  {
   "cell_type": "code",
   "execution_count": 4,
   "metadata": {},
   "outputs": [],
   "source": [
    "skin_data = pd.read_csv(os.path.join(base_skin_dir, 'HAM10000_metadata.csv'))\n",
    "skin_data['path'] = skin_data['image_id'].map(imageid_path_dict.get)\n",
    "skin_data['cell_type'] = skin_data['dx'].map(lesion_type_dict.get) \n",
    "skin_data['cell_type_idx'] = pd.Categorical(skin_data['cell_type']).codes"
   ]
  },
  {
   "cell_type": "code",
   "execution_count": 5,
   "metadata": {
    "scrolled": true
   },
   "outputs": [],
   "source": [
    "def f(x):\n",
    "    rnd = random.randint(0, 100)\n",
    "    if x == 'nv' and rnd < 20:\n",
    "        return '1'\n",
    "    else:\n",
    "        return '0'\n",
    "\n",
    "skin_data['usable'] = skin_data['dx'].apply(lambda x: f(x))"
   ]
  },
  {
   "cell_type": "code",
   "execution_count": 6,
   "metadata": {},
   "outputs": [
    {
     "data": {
      "text/plain": [
       "0    8730\n",
       "1    1285\n",
       "Name: usable, dtype: int64"
      ]
     },
     "execution_count": 6,
     "metadata": {},
     "output_type": "execute_result"
    }
   ],
   "source": [
    "skin_data['usable'].value_counts()"
   ]
  },
  {
   "cell_type": "code",
   "execution_count": null,
   "metadata": {},
   "outputs": [],
   "source": []
  },
  {
   "cell_type": "code",
   "execution_count": null,
   "metadata": {},
   "outputs": [],
   "source": []
  },
  {
   "cell_type": "code",
   "execution_count": null,
   "metadata": {},
   "outputs": [],
   "source": []
  },
  {
   "cell_type": "code",
   "execution_count": null,
   "metadata": {},
   "outputs": [],
   "source": []
  },
  {
   "cell_type": "code",
   "execution_count": 7,
   "metadata": {},
   "outputs": [
    {
     "data": {
      "text/plain": [
       "nv     1285\n",
       "mel    1113\n",
       "bkl    1099\n",
       "Name: dx, dtype: int64"
      ]
     },
     "execution_count": 7,
     "metadata": {},
     "output_type": "execute_result"
    }
   ],
   "source": [
    "cut_skin_data = skin_data[(skin_data['dx'] == 'bkl') |\n",
    "                          ((skin_data['dx'] == 'nv') & (skin_data['usable'] == '1' )) | \n",
    "                          (skin_data['dx'] == 'mel')]\n",
    "cut_skin_data['dx'].value_counts()"
   ]
  },
  {
   "cell_type": "code",
   "execution_count": 8,
   "metadata": {},
   "outputs": [],
   "source": [
    "data = []\n",
    "IMAGE_DIMS = (150, 100, 3)\n",
    "def load_img_with_cv2(imagePath):\n",
    "    image = cv2.imread(imagePath)\n",
    "    image = cv2.resize(image, (IMAGE_DIMS[1], IMAGE_DIMS[0]))\n",
    "    image = img_to_array(image)\n",
    "    return image\n",
    "\n",
    "for img_path in cut_skin_data['path']:\n",
    "    data.append(load_img_with_cv2(img_path))"
   ]
  },
  {
   "cell_type": "code",
   "execution_count": 9,
   "metadata": {},
   "outputs": [],
   "source": [
    "data = np.array(data, dtype='float') / 255.0\n",
    "labels = np.array(cut_skin_data['dx'])\n",
    "mlb = LabelBinarizer()\n",
    "labels = mlb.fit_transform(labels)\n",
    "X_train, X_test, y_train, y_test = train_test_split(\n",
    "    data, labels, test_size=0.2, random_state=42)"
   ]
  },
  {
   "cell_type": "code",
   "execution_count": 10,
   "metadata": {},
   "outputs": [],
   "source": [
    "def as_keras_metric(method):\n",
    "    import functools\n",
    "    from keras import backend as K\n",
    "    import tensorflow as tf\n",
    "    @functools.wraps(method)\n",
    "    def wrapper(self, args, **kwargs):\n",
    "        \"\"\" Wrapper for turning tensorflow metrics into keras metrics \"\"\"\n",
    "        value, update_op = method(self, args, **kwargs)\n",
    "        K.get_session().run(tf.local_variables_initializer())\n",
    "        with tf.control_dependencies([update_op]):\n",
    "            value = tf.identity(value)\n",
    "        return value\n",
    "    return wrapper"
   ]
  },
  {
   "cell_type": "code",
   "execution_count": 11,
   "metadata": {},
   "outputs": [],
   "source": [
    "precision = as_keras_metric(tf.metrics.precision)\n",
    "recall = as_keras_metric(tf.metrics.recall)"
   ]
  },
  {
   "cell_type": "code",
   "execution_count": null,
   "metadata": {},
   "outputs": [],
   "source": []
  },
  {
   "cell_type": "markdown",
   "metadata": {},
   "source": [
    "# Определим топологию нейронной сети "
   ]
  },
  {
   "cell_type": "code",
   "execution_count": 12,
   "metadata": {},
   "outputs": [],
   "source": [
    "model = models.Sequential()\n",
    "model.add(layers.Conv2D(16, (3, 3), activation='relu',input_shape=(150,100, 3), padding='SAME'))\n",
    "model.add(layers.Conv2D(16, (3, 3),activation='relu'))\n",
    "model.add(layers.MaxPooling2D((2, 2)))\n",
    "model.add(layers.Conv2D(32, (3, 3),activation='relu'))\n",
    "model.add(layers.Conv2D(32, (3, 3),activation='relu'))\n",
    "model.add(layers.MaxPooling2D((2, 2)))\n",
    "model.add(layers.Conv2D(64, (3, 3),activation='relu'))\n",
    "model.add(layers.Conv2D(64, (3, 3),activation='relu'))\n",
    "model.add(layers.MaxPooling2D((2, 2)))\n",
    "model.add(layers.Flatten())\n",
    "model.add(layers.Dense(64))\n",
    "model.add(layers.Dense(3, activation = 'softmax'))\n",
    "model.compile(optimizer='RMSprop',\n",
    "              loss='categorical_crossentropy',\n",
    "                metrics=['categorical_accuracy']\n",
    ")"
   ]
  },
  {
   "cell_type": "code",
   "execution_count": 13,
   "metadata": {
    "scrolled": false
   },
   "outputs": [
    {
     "name": "stdout",
     "output_type": "stream",
     "text": [
      "_________________________________________________________________\n",
      "Layer (type)                 Output Shape              Param #   \n",
      "=================================================================\n",
      "conv2d_1 (Conv2D)            (None, 150, 100, 16)      448       \n",
      "_________________________________________________________________\n",
      "conv2d_2 (Conv2D)            (None, 148, 98, 16)       2320      \n",
      "_________________________________________________________________\n",
      "max_pooling2d_1 (MaxPooling2 (None, 74, 49, 16)        0         \n",
      "_________________________________________________________________\n",
      "conv2d_3 (Conv2D)            (None, 72, 47, 32)        4640      \n",
      "_________________________________________________________________\n",
      "conv2d_4 (Conv2D)            (None, 70, 45, 32)        9248      \n",
      "_________________________________________________________________\n",
      "max_pooling2d_2 (MaxPooling2 (None, 35, 22, 32)        0         \n",
      "_________________________________________________________________\n",
      "conv2d_5 (Conv2D)            (None, 33, 20, 64)        18496     \n",
      "_________________________________________________________________\n",
      "conv2d_6 (Conv2D)            (None, 31, 18, 64)        36928     \n",
      "_________________________________________________________________\n",
      "max_pooling2d_3 (MaxPooling2 (None, 15, 9, 64)         0         \n",
      "_________________________________________________________________\n",
      "flatten_1 (Flatten)          (None, 8640)              0         \n",
      "_________________________________________________________________\n",
      "dense_1 (Dense)              (None, 64)                553024    \n",
      "_________________________________________________________________\n",
      "dense_2 (Dense)              (None, 64)                4160      \n",
      "_________________________________________________________________\n",
      "dense_3 (Dense)              (None, 3)                 195       \n",
      "=================================================================\n",
      "Total params: 629,459\n",
      "Trainable params: 629,459\n",
      "Non-trainable params: 0\n",
      "_________________________________________________________________\n"
     ]
    }
   ],
   "source": [
    "model.summary()"
   ]
  },
  {
   "cell_type": "markdown",
   "metadata": {},
   "source": [
    "# Обучим нейронную сеть \n",
    "\n"
   ]
  },
  {
   "cell_type": "code",
   "execution_count": 14,
   "metadata": {
    "scrolled": false
   },
   "outputs": [
    {
     "name": "stdout",
     "output_type": "stream",
     "text": [
      "Epoch 1/60\n",
      "2797/2797 [==============================] - 20s 7ms/step - loss: 1.2857 - categorical_accuracy: 0.3557\n",
      "Epoch 2/60\n",
      "2797/2797 [==============================] - 5s 2ms/step - loss: 1.1411 - categorical_accuracy: 0.3829\n",
      "Epoch 3/60\n",
      "2797/2797 [==============================] - 5s 2ms/step - loss: 1.0852 - categorical_accuracy: 0.4001\n",
      "Epoch 4/60\n",
      "2797/2797 [==============================] - 5s 2ms/step - loss: 1.0868 - categorical_accuracy: 0.4255\n",
      "Epoch 5/60\n",
      "2797/2797 [==============================] - 5s 2ms/step - loss: 1.0315 - categorical_accuracy: 0.5063\n",
      "Epoch 6/60\n",
      "2797/2797 [==============================] - 5s 2ms/step - loss: 0.9924 - categorical_accuracy: 0.5299\n",
      "Epoch 7/60\n",
      "2797/2797 [==============================] - 5s 2ms/step - loss: 0.9679 - categorical_accuracy: 0.5366\n",
      "Epoch 8/60\n",
      "2797/2797 [==============================] - 5s 2ms/step - loss: 0.9851 - categorical_accuracy: 0.5334\n",
      "Epoch 9/60\n",
      "2797/2797 [==============================] - 5s 2ms/step - loss: 0.9174 - categorical_accuracy: 0.5785\n",
      "Epoch 10/60\n",
      "2797/2797 [==============================] - 5s 2ms/step - loss: 0.9162 - categorical_accuracy: 0.5706\n",
      "Epoch 11/60\n",
      "2797/2797 [==============================] - 5s 2ms/step - loss: 0.8755 - categorical_accuracy: 0.5974\n",
      "Epoch 12/60\n",
      "2797/2797 [==============================] - 5s 2ms/step - loss: 0.8405 - categorical_accuracy: 0.6149\n",
      "Epoch 13/60\n",
      "2797/2797 [==============================] - 5s 2ms/step - loss: 0.8522 - categorical_accuracy: 0.6153\n",
      "Epoch 14/60\n",
      "2797/2797 [==============================] - 5s 2ms/step - loss: 0.8219 - categorical_accuracy: 0.6310\n",
      "Epoch 15/60\n",
      "2797/2797 [==============================] - 5s 2ms/step - loss: 0.8307 - categorical_accuracy: 0.6339\n",
      "Epoch 16/60\n",
      "2797/2797 [==============================] - 5s 2ms/step - loss: 0.7849 - categorical_accuracy: 0.6496\n",
      "Epoch 17/60\n",
      "2797/2797 [==============================] - 5s 2ms/step - loss: 0.7775 - categorical_accuracy: 0.6611\n",
      "Epoch 18/60\n",
      "2797/2797 [==============================] - 5s 2ms/step - loss: 0.7562 - categorical_accuracy: 0.6661\n",
      "Epoch 19/60\n",
      "2797/2797 [==============================] - 5s 2ms/step - loss: 0.7537 - categorical_accuracy: 0.6600: 1s - loss: 0.7357 - categorical_\n",
      "Epoch 20/60\n",
      "2797/2797 [==============================] - 5s 2ms/step - loss: 0.7147 - categorical_accuracy: 0.6857\n",
      "Epoch 21/60\n",
      "2797/2797 [==============================] - 5s 2ms/step - loss: 0.6855 - categorical_accuracy: 0.6961\n",
      "Epoch 22/60\n",
      "2797/2797 [==============================] - 5s 2ms/step - loss: 0.6904 - categorical_accuracy: 0.6972\n",
      "Epoch 23/60\n",
      "2797/2797 [==============================] - 5s 2ms/step - loss: 0.6643 - categorical_accuracy: 0.7061: 2s - loss: 0.6820 - \n",
      "Epoch 24/60\n",
      "2797/2797 [==============================] - 5s 2ms/step - loss: 0.6568 - categorical_accuracy: 0.7115\n",
      "Epoch 25/60\n",
      "2797/2797 [==============================] - 5s 2ms/step - loss: 0.6070 - categorical_accuracy: 0.7333\n",
      "Epoch 26/60\n",
      "2797/2797 [==============================] - 5s 2ms/step - loss: 0.6113 - categorical_accuracy: 0.7333\n",
      "Epoch 27/60\n",
      "2797/2797 [==============================] - 5s 2ms/step - loss: 0.5784 - categorical_accuracy: 0.7472\n",
      "Epoch 28/60\n",
      "2797/2797 [==============================] - 5s 2ms/step - loss: 0.5601 - categorical_accuracy: 0.7637\n",
      "Epoch 29/60\n",
      "2797/2797 [==============================] - 5s 2ms/step - loss: 0.5534 - categorical_accuracy: 0.7687\n",
      "Epoch 30/60\n",
      "2797/2797 [==============================] - 5s 2ms/step - loss: 0.5218 - categorical_accuracy: 0.7830\n",
      "Epoch 31/60\n",
      "2797/2797 [==============================] - 5s 2ms/step - loss: 0.4885 - categorical_accuracy: 0.7969\n",
      "Epoch 32/60\n",
      "2797/2797 [==============================] - 5s 2ms/step - loss: 0.4653 - categorical_accuracy: 0.8077\n",
      "Epoch 33/60\n",
      "2797/2797 [==============================] - 5s 2ms/step - loss: 0.4321 - categorical_accuracy: 0.8255\n",
      "Epoch 34/60\n",
      "2797/2797 [==============================] - 5s 2ms/step - loss: 0.4253 - categorical_accuracy: 0.8348\n",
      "Epoch 35/60\n",
      "2797/2797 [==============================] - 5s 2ms/step - loss: 0.4018 - categorical_accuracy: 0.8405\n",
      "Epoch 36/60\n",
      "2797/2797 [==============================] - 5s 2ms/step - loss: 0.3535 - categorical_accuracy: 0.8548\n",
      "Epoch 37/60\n",
      "2797/2797 [==============================] - 5s 2ms/step - loss: 0.3561 - categorical_accuracy: 0.8666\n",
      "Epoch 38/60\n",
      "2797/2797 [==============================] - 5s 2ms/step - loss: 0.4566 - categorical_accuracy: 0.8427\n",
      "Epoch 39/60\n",
      "2797/2797 [==============================] - ETA: 0s - loss: 0.2691 - categorical_accuracy: 0.90 - 5s 2ms/step - loss: 0.2863 - categorical_accuracy: 0.8956\n",
      "Epoch 40/60\n",
      "2797/2797 [==============================] - 5s 2ms/step - loss: 0.3190 - categorical_accuracy: 0.8713\n",
      "Epoch 41/60\n",
      "2797/2797 [==============================] - 5s 2ms/step - loss: 0.3030 - categorical_accuracy: 0.8970\n",
      "Epoch 42/60\n",
      "2797/2797 [==============================] - 5s 2ms/step - loss: 0.2708 - categorical_accuracy: 0.8924\n",
      "Epoch 43/60\n",
      "2797/2797 [==============================] - 5s 2ms/step - loss: 0.2677 - categorical_accuracy: 0.8974\n",
      "Epoch 44/60\n",
      "2797/2797 [==============================] - 5s 2ms/step - loss: 0.2677 - categorical_accuracy: 0.9045\n",
      "Epoch 45/60\n",
      "2797/2797 [==============================] - 5s 2ms/step - loss: 0.2301 - categorical_accuracy: 0.9138\n",
      "Epoch 46/60\n",
      "2797/2797 [==============================] - 5s 2ms/step - loss: 0.2069 - categorical_accuracy: 0.9256\n",
      "Epoch 47/60\n",
      "2797/2797 [==============================] - 5s 2ms/step - loss: 0.1984 - categorical_accuracy: 0.9238\n",
      "Epoch 48/60\n",
      "2797/2797 [==============================] - 5s 2ms/step - loss: 0.1711 - categorical_accuracy: 0.9389\n",
      "Epoch 49/60\n",
      "2797/2797 [==============================] - 5s 2ms/step - loss: 0.2644 - categorical_accuracy: 0.9328\n",
      "Epoch 50/60\n",
      "2797/2797 [==============================] - 5s 2ms/step - loss: 0.1415 - categorical_accuracy: 0.9478\n",
      "Epoch 51/60\n",
      "2797/2797 [==============================] - 5s 2ms/step - loss: 0.2426 - categorical_accuracy: 0.9174\n",
      "Epoch 52/60\n",
      "2797/2797 [==============================] - 5s 2ms/step - loss: 0.1571 - categorical_accuracy: 0.9482\n",
      "Epoch 53/60\n",
      "2797/2797 [==============================] - 5s 2ms/step - loss: 0.1990 - categorical_accuracy: 0.9410\n",
      "Epoch 54/60\n",
      "2797/2797 [==============================] - 5s 2ms/step - loss: 0.0946 - categorical_accuracy: 0.9685\n",
      "Epoch 55/60\n",
      "2797/2797 [==============================] - 5s 2ms/step - loss: 0.1567 - categorical_accuracy: 0.9535\n",
      "Epoch 56/60\n",
      "2797/2797 [==============================] - 5s 2ms/step - loss: 0.1623 - categorical_accuracy: 0.9532\n",
      "Epoch 57/60\n",
      "2797/2797 [==============================] - 5s 2ms/step - loss: 0.2125 - categorical_accuracy: 0.9457\n",
      "Epoch 58/60\n",
      "2797/2797 [==============================] - 5s 2ms/step - loss: 0.1330 - categorical_accuracy: 0.9517\n",
      "Epoch 59/60\n",
      "2797/2797 [==============================] - 5s 2ms/step - loss: 0.1890 - categorical_accuracy: 0.9428\n",
      "Epoch 60/60\n",
      "2797/2797 [==============================] - 5s 2ms/step - loss: 0.0273 - categorical_accuracy: 0.9939\n"
     ]
    }
   ],
   "source": [
    "history = model.fit(X_train, y_train, epochs=60, batch_size=128 )"
   ]
  },
  {
   "cell_type": "markdown",
   "metadata": {},
   "source": [
    "# Построим графики результатов обучения нейронной сети \n"
   ]
  },
  {
   "cell_type": "code",
   "execution_count": 15,
   "metadata": {},
   "outputs": [
    {
     "name": "stdout",
     "output_type": "stream",
     "text": [
      "dict_keys(['loss', 'categorical_accuracy'])\n"
     ]
    }
   ],
   "source": [
    "print(history.history.keys())"
   ]
  },
  {
   "cell_type": "code",
   "execution_count": 16,
   "metadata": {},
   "outputs": [
    {
     "name": "stdout",
     "output_type": "stream",
     "text": [
      "[0.3557382914949239, 0.3829102611644037, 0.40007150515216056, 0.425455845623388, 0.5062567028864648, 0.5298534154593625, 0.5366464071415303, 0.5334286734083529, 0.578476940366597, 0.5706113698037556, 0.5974258127960939, 0.6149445833118208, 0.6153021095307929, 0.6310332487811776, 0.6338934571051709, 0.6496245984226454, 0.6610654269238221, 0.6660707907715907, 0.6599928494176568, 0.6857347147440033, 0.696102967550382, 0.6971755447582044, 0.7061136922198702, 0.711476582393162, 0.7332856621876929, 0.73328566395644, 0.7472291730922335, 0.7636753673590972, 0.7686807300987353, 0.782981767222248, 0.7969252771252089, 0.8076510540834699, 0.8255273507755485, 0.8348230239021212, 0.8405434401452136, 0.8548444769703835, 0.8666428313495689, 0.8426885953706462, 0.8956024319221175, 0.8712906693193287, 0.8970325341981609, 0.8923846985938338, 0.8973900601187902, 0.9045405796395057, 0.9138362536824172, 0.9256346086582884, 0.9238469800141014, 0.938863067465848, 0.9327851270708732, 0.9478012165470894, 0.9174115128887096, 0.9481587420628247, 0.9410082226912806, 0.9685377195386917, 0.9535216304673695, 0.9531641053565281, 0.9456560596594608, 0.9517339999052641, 0.9427958522944268, 0.9939220593493028]\n"
     ]
    }
   ],
   "source": [
    "print(history.history['categorical_accuracy'])"
   ]
  },
  {
   "cell_type": "code",
   "execution_count": 17,
   "metadata": {},
   "outputs": [
    {
     "data": {
      "image/png": "[encoded data removed]",
      "text/plain": [
       "<Figure size 432x288 with 1 Axes>"
      ]
     },
     "metadata": {
      "needs_background": "light"
     },
     "output_type": "display_data"
    }
   ],
   "source": [
    "plt.plot(history.history['categorical_accuracy'], label='Train sample accuracy')\n",
    "plt.xlabel('Эпоха обучения')\n",
    "plt.ylabel('Accuracy')\n",
    "plt.legend()\n",
    "plt.show()"
   ]
  },
  {
   "cell_type": "markdown",
   "metadata": {},
   "source": [
    "Функция для отрисовки промежуточных слоёв нейросети"
   ]
  },
  {
   "cell_type": "code",
   "execution_count": 37,
   "metadata": {},
   "outputs": [],
   "source": [
    "def layers_pictures(activation):\n",
    "    images_per_row = 16\n",
    "    n_filters = activation.shape[2]\n",
    "    size = activation.shape[1]\n",
    "    size2 = activation.shape[2]\n",
    "    n_cols = n_filters // images_per_row\n",
    "    display_grid = np.zeros((n_cols * size, images_per_row * size))\n",
    "\n",
    "    for col in range(n_cols):\n",
    "        for row in range(images_per_row):\n",
    "            channel_image = activation[0, :, :, col * images_per_row + row]\n",
    "            channel_image -= channel_image.mean()\n",
    "            channel_image /= channel_image.std()\n",
    "            channel_image *= 64\n",
    "            channel_image += 128\n",
    "            channel_image = np.clip(channel_image, 0, 255).astype('uint8')\n",
    "            display_grid[col * size : (col + 1) * size, row * size2 : (row + 1) * size2] = channel_image\n",
    "    \n",
    "    scale = 1. / size\n",
    "    plt.figure(figsize=(scale * display_grid.shape[1], scale * display_grid.shape[0]))\n",
    "    plt.grid(False)\n",
    "    plt.imshow(display_grid, aspect='auto', cmap='viridis')"
   ]
  },
  {
   "cell_type": "markdown",
   "metadata": {},
   "source": [
    "# Проверим полученную модель на тестовой выборке "
   ]
  },
  {
   "cell_type": "code",
   "execution_count": 18,
   "metadata": {},
   "outputs": [
    {
     "name": "stdout",
     "output_type": "stream",
     "text": [
      "700/700 [==============================] - 3s 4ms/step\n"
     ]
    },
    {
     "data": {
      "text/plain": [
       "[2.9333528423309327, 0.6385714278902326]"
      ]
     },
     "execution_count": 18,
     "metadata": {},
     "output_type": "execute_result"
    }
   ],
   "source": [
    "score = model.evaluate(X_test, y_test, batch_size=128)\n",
    "score"
   ]
  },
  {
   "cell_type": "markdown",
   "metadata": {},
   "source": [
    "# Выгрузим промежуточные изображения из слоёв нейронной сети "
   ]
  },
  {
   "cell_type": "markdown",
   "metadata": {},
   "source": [
    "# Первый слой "
   ]
  },
  {
   "cell_type": "code",
   "execution_count": 32,
   "metadata": {
    "scrolled": true
   },
   "outputs": [
    {
     "name": "stdout",
     "output_type": "stream",
     "text": [
      "_________________________________________________________________\n",
      "Layer (type)                 Output Shape              Param #   \n",
      "=================================================================\n",
      "conv2d_1_input (InputLayer)  (None, 150, 100, 3)       0         \n",
      "_________________________________________________________________\n",
      "conv2d_1 (Conv2D)            (None, 150, 100, 16)      448       \n",
      "_________________________________________________________________\n",
      "conv2d_2 (Conv2D)            (None, 148, 98, 16)       2320      \n",
      "_________________________________________________________________\n",
      "max_pooling2d_1 (MaxPooling2 (None, 74, 49, 16)        0         \n",
      "_________________________________________________________________\n",
      "conv2d_3 (Conv2D)            (None, 72, 47, 32)        4640      \n",
      "_________________________________________________________________\n",
      "conv2d_4 (Conv2D)            (None, 70, 45, 32)        9248      \n",
      "=================================================================\n",
      "Total params: 16,656\n",
      "Trainable params: 16,656\n",
      "Non-trainable params: 0\n",
      "_________________________________________________________________\n"
     ]
    }
   ],
   "source": [
    "First_layer = models.Model(inputs=model.input, outputs=model.layers[4].output)\n",
    "First_layer.summary()"
   ]
  },
  {
   "cell_type": "code",
   "execution_count": 38,
   "metadata": {},
   "outputs": [
    {
     "name": "stderr",
     "output_type": "stream",
     "text": [
      "C:\\Users\\jurgen\\Anaconda3\\envs\\gpuusage\\lib\\site-packages\\ipykernel_launcher.py:13: RuntimeWarning: invalid value encountered in true_divide\n",
      "  del sys.path[0]\n"
     ]
    },
    {
     "data": {
      "image/png": "[encoded data removed]",
      "text/plain": [
       "<Figure size 1152x144 with 1 Axes>"
      ]
     },
     "metadata": {
      "needs_background": "light"
     },
     "output_type": "display_data"
    }
   ],
   "source": [
    "First_layer_activation = First_layer.predict(X_test)\n",
    "layers_pictures(First_layer_activation)"
   ]
  },
  {
   "cell_type": "markdown",
   "metadata": {},
   "source": [
    "# Второй слой "
   ]
  },
  {
   "cell_type": "code",
   "execution_count": 36,
   "metadata": {},
   "outputs": [
    {
     "name": "stdout",
     "output_type": "stream",
     "text": [
      "_________________________________________________________________\n",
      "Layer (type)                 Output Shape              Param #   \n",
      "=================================================================\n",
      "conv2d_1_input (InputLayer)  (None, 150, 100, 3)       0         \n",
      "_________________________________________________________________\n",
      "conv2d_1 (Conv2D)            (None, 150, 100, 16)      448       \n",
      "_________________________________________________________________\n",
      "conv2d_2 (Conv2D)            (None, 148, 98, 16)       2320      \n",
      "_________________________________________________________________\n",
      "max_pooling2d_1 (MaxPooling2 (None, 74, 49, 16)        0         \n",
      "_________________________________________________________________\n",
      "conv2d_3 (Conv2D)            (None, 72, 47, 32)        4640      \n",
      "_________________________________________________________________\n",
      "conv2d_4 (Conv2D)            (None, 70, 45, 32)        9248      \n",
      "_________________________________________________________________\n",
      "max_pooling2d_2 (MaxPooling2 (None, 35, 22, 32)        0         \n",
      "_________________________________________________________________\n",
      "conv2d_5 (Conv2D)            (None, 33, 20, 64)        18496     \n",
      "_________________________________________________________________\n",
      "conv2d_6 (Conv2D)            (None, 31, 18, 64)        36928     \n",
      "=================================================================\n",
      "Total params: 72,080\n",
      "Trainable params: 72,080\n",
      "Non-trainable params: 0\n",
      "_________________________________________________________________\n"
     ]
    }
   ],
   "source": [
    "Second_layer = models.Model(inputs=model.input, outputs=model.layers[7].output)\n",
    "Second_layer.summary()"
   ]
  },
  {
   "cell_type": "code",
   "execution_count": 39,
   "metadata": {},
   "outputs": [
    {
     "name": "stderr",
     "output_type": "stream",
     "text": [
      "C:\\Users\\jurgen\\Anaconda3\\envs\\gpuusage\\lib\\site-packages\\ipykernel_launcher.py:13: RuntimeWarning: invalid value encountered in true_divide\n",
      "  del sys.path[0]\n"
     ]
    },
    {
     "data": {
      "image/png": "[encoded data removed]",
      "text/plain": [
       "<Figure size 1152x72 with 1 Axes>"
      ]
     },
     "metadata": {
      "needs_background": "light"
     },
     "output_type": "display_data"
    }
   ],
   "source": [
    "Second_layer_activation = Second_layer.predict(X_test)\n",
    "layers_pictures(Second_layer_activation)"
   ]
  },
  {
   "cell_type": "code",
   "execution_count": null,
   "metadata": {},
   "outputs": [],
   "source": []
  },
  {
   "cell_type": "code",
   "execution_count": null,
   "metadata": {},
   "outputs": [],
   "source": []
  },
  {
   "cell_type": "code",
   "execution_count": null,
   "metadata": {},
   "outputs": [],
   "source": []
  },
  {
   "cell_type": "code",
   "execution_count": null,
   "metadata": {},
   "outputs": [],
   "source": []
  },
  {
   "cell_type": "code",
   "execution_count": null,
   "metadata": {},
   "outputs": [],
   "source": []
  }
 ],
 "metadata": {
  "kernelspec": {
   "display_name": "GPUenv",
   "language": "python",
   "name": "gpuusage"
  },
  "language_info": {
   "codemirror_mode": {
    "name": "ipython",
    "version": 3
   },
   "file_extension": ".py",
   "mimetype": "text/x-python",
   "name": "python",
   "nbconvert_exporter": "python",
   "pygments_lexer": "ipython3",
   "version": "3.6.6"
  }
 },
 "nbformat": 4,
 "nbformat_minor": 2
}
